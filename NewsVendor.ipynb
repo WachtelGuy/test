{
 "cells": [
  {
   "cell_type": "markdown",
   "metadata": {},
   "source": [
    "## The newsboy problem when Demand is affected by shortages\n",
    "\n",
    "We consider the newsboy problem when demand is affected by the shortages from previous periods. The distribution function of the demand is known and one of the parameters is affected by the shortage.\n",
    "\n",
    "It is a newsboy problem as we assume that leftovers of the product are discarded at the end of the period.\n",
    "\n",
    "$Q$ - Quantity ordered\n",
    "\n",
    "$c$ - Unit ordering price \n",
    "\n",
    "$r$- Selling price (profit for one unit is $r-c$).\n",
    "\n",
    "$\\beta$ – Discount factor,  $0\\le\\beta\\le1$.\n",
    "\n",
    "$D(a)$ -  Demand random variable with parameter $a$. \n",
    "\n",
    "$b=(D(a)-Q)^+$ - Shortage. \n",
    "\n",
    "$a=a-H((D(A)-Q)^+)$ the parameter of $D$ in the next period.\n",
    "\n",
    "The objective is to find the optimal $Q$ for each period that maximizes the total discounted profit:\n",
    "\n",
    "$$ f(a)=\\max_q(-Qc+r\\Sigma_{i=1}^Q{ip_i(a)}+rQ\\Sigma_{i=Q+1}^\\infty {p_i (a)}+\\beta f(a) \\Sigma_{i=0}^Q {p_i (a)}+\\beta \\Sigma_{i=Q+1}^{a+Q}{p_i(a)f(a-i+Q))} $$\n",
    "\n"
   ]
  },
  {
   "cell_type": "code",
   "execution_count": 1,
   "metadata": {},
   "outputs": [],
   "source": [
    "# Importing widgets:\n",
    "from __future__ import print_function\n",
    "from ipywidgets import interact, interactive, fixed, interact_manual\n",
    "import ipywidgets as widgets"
   ]
  },
  {
   "cell_type": "code",
   "execution_count": 28,
   "metadata": {},
   "outputs": [
    {
     "data": {
      "application/vnd.jupyter.widget-view+json": {
       "model_id": "62ce24591ae34c5287a62632e55037e5",
       "version_major": 2,
       "version_minor": 0
      },
      "text/plain": [
       "interactive(children=(IntSlider(value=15, description='Q', max=30), IntSlider(value=50, description='c'), IntS…"
      ]
     },
     "metadata": {},
     "output_type": "display_data"
    }
   ],
   "source": [
    "@interact_manual(Q=(0,30), \n",
    "          c=(0,100),\n",
    "          r=(0,100),\n",
    "          beta=(0.00,1.00),\n",
    "          D=['Nornal','Poisson','Binomial','Exponential'])\n",
    "def g(Q, c, r, beta, D):\n",
    "    return (Q, c, r, beta, D)"
   ]
  },
  {
   "cell_type": "code",
   "execution_count": null,
   "metadata": {},
   "outputs": [],
   "source": []
  }
 ],
 "metadata": {
  "kernelspec": {
   "display_name": "Python 3",
   "language": "python",
   "name": "python3"
  },
  "language_info": {
   "codemirror_mode": {
    "name": "ipython",
    "version": 3
   },
   "file_extension": ".py",
   "mimetype": "text/x-python",
   "name": "python",
   "nbconvert_exporter": "python",
   "pygments_lexer": "ipython3",
   "version": "3.7.0"
  },
  "widgets": {
   "application/vnd.jupyter.widget-state+json": {
    "state": {},
    "version_major": 2,
    "version_minor": 0
   }
  }
 },
 "nbformat": 4,
 "nbformat_minor": 2
}
